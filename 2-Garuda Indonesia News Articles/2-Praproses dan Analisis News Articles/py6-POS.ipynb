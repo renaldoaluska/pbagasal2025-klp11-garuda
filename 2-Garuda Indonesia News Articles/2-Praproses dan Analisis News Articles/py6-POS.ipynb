{
 "cells": [
  {
   "cell_type": "markdown",
   "metadata": {
    "id": "a66d938a"
   },
   "source": [
    "# Instalasi dan Import Library\n",
    "\n",
    "Langkah ini menginstal library yang dibutuhkan (`stanza` dan `tqdm`) dan mengimpornya untuk digunakan dalam analisis."
   ]
  },
  {
   "cell_type": "code",
   "execution_count": null,
   "metadata": {
    "id": "ZYq9a7pYAVOZ"
   },
   "outputs": [],
   "source": [
    "# 0) Install & import\n",
    "!pip -q install stanza tqdm"
   ]
  },
  {
   "cell_type": "code",
   "execution_count": null,
   "metadata": {
    "id": "VNPsBnZrAZAN"
   },
   "outputs": [],
   "source": [
    "import pandas as pd\n",
    "from tqdm.auto import tqdm\n",
    "import stanza\n",
    "import math\n",
    "import matplotlib.pyplot as plt"
   ]
  },
  {
   "cell_type": "markdown",
   "metadata": {
    "id": "053092dc"
   },
   "source": [
    "### Konfigurasi Awal\n",
    "\n",
    "Bagian ini menetapkan variabel konfigurasi utama seperti path ke file CSV dataset, nama kolom teks yang akan diproses, dan direktori untuk menyimpan output."
   ]
  },
  {
   "cell_type": "code",
   "execution_count": null,
   "metadata": {
    "id": "WYDcZUtiCdBa"
   },
   "outputs": [],
   "source": [
    "# --- konfigurasi utama ---\n",
    "CSV_PATH   = \"garudaindonesia_news_cleaned_simple.csv\"  # ganti ke path dataset kamu\n",
    "TEXT_COL   = \"konten_nostop\"     # <=== pakai kolom sebelum stemming\n",
    "OUT_DIR    = \"/content\"\n",
    "MAX_DOCS   = None"
   ]
  },
  {
   "cell_type": "markdown",
   "metadata": {
    "id": "146b4ded"
   },
   "source": [
    "###  Memuat Data\n",
    "\n",
    "Kode ini membaca data dari file CSV yang ditentukan, memastikan kolom teks yang relevan ada, dan memuat teks ke dalam list untuk diproses lebih lanjut."
   ]
  },
  {
   "cell_type": "code",
   "execution_count": null,
   "metadata": {
    "colab": {
     "base_uri": "https://localhost:8080/"
    },
    "id": "diI6pfCbCdxl",
    "outputId": "a048b680-2b95-4c10-e4c8-4a5764243ac8"
   },
   "outputs": [
    {
     "name": "stdout",
     "output_type": "stream",
     "text": [
      "Jumlah dokumen: 469\n"
     ]
    }
   ],
   "source": [
    "# === 1) Load data ===\n",
    "df = pd.read_csv(CSV_PATH)\n",
    "assert TEXT_COL in df.columns, f\"Kolom '{TEXT_COL}' tidak ada di CSV.\"\n",
    "texts = df[TEXT_COL].astype(str).fillna(\"\").tolist()\n",
    "if MAX_DOCS is not None:\n",
    "    texts = texts[:MAX_DOCS]\n",
    "print(f\"Jumlah dokumen: {len(texts)}\")"
   ]
  },
  {
   "cell_type": "markdown",
   "metadata": {
    "id": "42851a38"
   },
   "source": [
    "###  Mengunduh & Inisialisasi Pipeline Stanza (Bahasa Indonesia)\n",
    "\n",
    "Langkah ini mengunduh model bahasa Indonesia yang diperlukan oleh Stanza dan menginisialisasi pipeline Stanza dengan prosesor untuk tokenisasi, POS tagging, dan lemmatisasi."
   ]
  },
  {
   "cell_type": "code",
   "execution_count": null,
   "metadata": {
    "colab": {
     "base_uri": "https://localhost:8080/",
     "height": 539,
     "referenced_widgets": [
      "f6a637b044ed4541a3e171d296a52b1a",
      "0c044138335a44aab1b2df59ab3a98ca",
      "aecb8b50ff3e4e44ad5943abf4121424",
      "c40b3a1e4b9d44b88b5312856849d15a",
      "d6f0aaac8f4240839a8da6b87ec35c72",
      "809c70de24fa4ac3a661b3169c483c57",
      "ebe0a048a8244db58d1cfa7aa5bd1201",
      "cb43720854ff49af96e7487ca3b525a0",
      "d48c35cd524845e5847a2acaa78ddfe6",
      "59ae3f95325d489e9768f0700453250b",
      "93516fab57534c768fe5b4ff5f8dc4df",
      "ab57671581cc4dafa1d2d4aafdd778ba",
      "2cea7f0cd07a4e829cbf76b2993dc7a8",
      "c95cff47b92e482bacb3e899f9ac7647",
      "61575444ffd14dbb82f95e42c4c468bf",
      "21ea4bad9f304041a4db130a204b0887",
      "7718a40147a84641979d0117a969407b",
      "6d57066974374810b7863d31f02fbad1",
      "b4e3146e8ceb4d9fa47da819e23ac455",
      "bf892c3dec804aeb89d2b025d6f343e6",
      "516af51a8327461ea4c4673209620aa8",
      "eaa1cc40a45942589e273b3182b3a8dc"
     ]
    },
    "id": "drnin9clCfV5",
    "outputId": "96c3b835-4784-47aa-df5b-3f036ee32c2c"
   },
   "outputs": [
    {
     "data": {
      "application/vnd.jupyter.widget-view+json": {
       "model_id": "f6a637b044ed4541a3e171d296a52b1a",
       "version_major": 2,
       "version_minor": 0
      },
      "text/plain": [
       "Downloading https://raw.githubusercontent.com/stanfordnlp/stanza-resources/main/resources_1.11.0.json:   0%|  …"
      ]
     },
     "metadata": {},
     "output_type": "display_data"
    },
    {
     "name": "stderr",
     "output_type": "stream",
     "text": [
      "INFO:stanza:Downloaded file to /root/stanza_resources/resources.json\n",
      "INFO:stanza:Downloading default packages for language: id (Indonesian) ...\n",
      "INFO:stanza:File exists: /root/stanza_resources/id/default.zip\n",
      "INFO:stanza:Finished downloading models and saved to /root/stanza_resources\n",
      "INFO:stanza:Checking for updates to resources.json in case models have been updated.  Note: this behavior can be turned off with download_method=None or download_method=DownloadMethod.REUSE_RESOURCES\n"
     ]
    },
    {
     "data": {
      "application/vnd.jupyter.widget-view+json": {
       "model_id": "ab57671581cc4dafa1d2d4aafdd778ba",
       "version_major": 2,
       "version_minor": 0
      },
      "text/plain": [
       "Downloading https://raw.githubusercontent.com/stanfordnlp/stanza-resources/main/resources_1.11.0.json:   0%|  …"
      ]
     },
     "metadata": {},
     "output_type": "display_data"
    },
    {
     "name": "stderr",
     "output_type": "stream",
     "text": [
      "INFO:stanza:Downloaded file to /root/stanza_resources/resources.json\n",
      "WARNING:stanza:Language id package default expects mwt, which has been added\n",
      "INFO:stanza:Loading these models for language: id (Indonesian):\n",
      "============================\n",
      "| Processor | Package      |\n",
      "----------------------------\n",
      "| tokenize  | gsd          |\n",
      "| mwt       | gsd          |\n",
      "| pos       | gsd_charlm   |\n",
      "| lemma     | gsd_nocharlm |\n",
      "============================\n",
      "\n",
      "WARNING:stanza:GPU requested, but is not available!\n",
      "INFO:stanza:Using device: cpu\n",
      "INFO:stanza:Loading: tokenize\n",
      "INFO:stanza:Loading: mwt\n",
      "INFO:stanza:Loading: pos\n",
      "INFO:stanza:Loading: lemma\n",
      "INFO:stanza:Done loading processors!\n"
     ]
    }
   ],
   "source": [
    "# 2) Download & init pipeline Stanza (Bahasa Indonesia)\n",
    "stanza.download('id')  # sekali saja; akan skip jika sudah ada\n",
    "nlp = stanza.Pipeline(\n",
    "    lang='id',\n",
    "    processors='tokenize,pos,lemma',   # lemma opsional tapi sering berguna\n",
    "    use_gpu=True                       # aktifkan GPU di Runtime -> Change runtime type -> GPU\n",
    ")"
   ]
  },
  {
   "cell_type": "code",
   "execution_count": null,
   "metadata": {
    "id": "uU6astBdChm1"
   },
   "outputs": [],
   "source": [
    "# 3) Fungsi helper untuk memproses batch teks\n",
    "def process_batch(batch_texts, start_idx=0):\n",
    "    doc = nlp(\"\\n\\n\".join(batch_texts))  # join pakai blank line -> tiap teks jadi \"document\"\n",
    "    rows = []\n",
    "    # Stanza akan menganggap setiap \"document\" dipisah blank line sebagai paragraf berturut,\n",
    "    # kita track doc_id manual via counter ketika menemukan blank line boundary\n",
    "    doc_id = start_idx\n",
    "    sent_id = 0\n",
    "    for par in doc.sentences:\n",
    "        # ketika Stanza ketemu blank line boundary, dia reset sentence stream?\n",
    "        # cara paling aman: kita hitung jumlah token; ketika sent.text == '' tidak reliable\n",
    "        # Simpel: batasi per batch = satu \"dokumen gabungan\", lalu assign doc_id via marker khusus.\n",
    "        # Karena pendekatan gabung bisa bikin doc_id sulit, alternatif: proses satu per satu.\n",
    "        # Supaya mudah & jelas, kita pakai cara satu-per-satu untuk akurasi doc_id.\n",
    "\n",
    "        pass"
   ]
  },
  {
   "cell_type": "markdown",
   "metadata": {
    "id": "8540c5ae"
   },
   "source": [
    "###  POS Tagging per Dokumen\n",
    "\n",
    "Bagian ini melakukan POS tagging pada setiap dokumen teks dalam dataset menggunakan pipeline Stanza dan menyimpan hasilnya (token, lemma, UPOS, XPOS) dalam sebuah DataFrame pandas."
   ]
  },
  {
   "cell_type": "code",
   "execution_count": null,
   "metadata": {
    "colab": {
     "base_uri": "https://localhost:8080/",
     "height": 177,
     "referenced_widgets": [
      "308865c88bc14af5a7614eb05268c7fb",
      "0d273c8f8b8049ae8cbd11cb76f44ad0",
      "b31dd12d652d469b91de88c986c0a0d7",
      "dac773896b0d4a6b807e32acc346a918",
      "83c0598d14bd429d82e51ff7fc090533",
      "b9dbce95fb8d4cae82c5715123ec5dc5",
      "8b5476dca0e7407ab88112afac5781a9",
      "5b3ce104bc544bc4aba201e2a2860910",
      "e68fa5025ef94b198374b34a8d65d9cd",
      "05a6ee24c9874eeab4987907449970f3",
      "4d2aa4cc5c9142e7b9ed0d60bd8eddd7"
     ]
    },
    "id": "JPEbWnkFCkAB",
    "outputId": "987078d9-f5a7-4b96-a28a-fc92038b8269"
   },
   "outputs": [
    {
     "data": {
      "application/vnd.jupyter.widget-view+json": {
       "model_id": "308865c88bc14af5a7614eb05268c7fb",
       "version_major": 2,
       "version_minor": 0
      },
      "text/plain": [
       "POS tagging:   0%|          | 0/469 [00:00<?, ?it/s]"
      ]
     },
     "metadata": {},
     "output_type": "display_data"
    },
    {
     "name": "stdout",
     "output_type": "stream",
     "text": [
      "   doc_id  sent_id  token_id      token      lemma   upos xpos\n",
      "0       0        0         0     garuda     garuda  PROPN  F--\n",
      "1       0        0         1  indonesia  indonesia  PROPN  NSD\n",
      "2       0        0         2     rupslb     rupslb  PROPN  X--\n",
      "3       0        0         3     tengah     tengah   NOUN  NSD\n",
      "4       0        0         4        isu        isu   NOUN  NSD\n",
      "Total token: 123907\n"
     ]
    }
   ],
   "source": [
    "# === 3) POS Tagging per dokumen ===\n",
    "all_rows = []\n",
    "for i, text in tqdm(list(enumerate(texts)), total=len(texts), desc=\"POS tagging\"):\n",
    "    if not text.strip():\n",
    "        continue\n",
    "    doc = nlp(text)\n",
    "    for s_idx, sent in enumerate(doc.sentences):\n",
    "        for t_idx, token in enumerate(sent.tokens):\n",
    "            w = token.words[0]\n",
    "            all_rows.append({\n",
    "                \"doc_id\": i,\n",
    "                \"sent_id\": s_idx,\n",
    "                \"token_id\": t_idx,\n",
    "                \"token\": token.text,\n",
    "                \"lemma\": w.lemma if hasattr(w, \"lemma\") else \"\",\n",
    "                \"upos\": w.upos,                # Universal POS (NOUN, VERB, ADJ, ...)\n",
    "                \"xpos\": getattr(w, \"xpos\", \"\") # spesifik bahasa\n",
    "            })\n",
    "\n",
    "pos_df = pd.DataFrame(all_rows)\n",
    "print(pos_df.head())\n",
    "print(\"Total token:\", len(pos_df))"
   ]
  },
  {
   "cell_type": "markdown",
   "metadata": {
    "id": "cc10670d"
   },
   "source": [
    "###  Ringkasan POS Global\n",
    "\n",
    "Kode ini menghitung frekuensi kemunculan setiap Universal POS (UPOS) tag di seluruh dataset untuk mendapatkan gambaran distribusi POS secara global."
   ]
  },
  {
   "cell_type": "code",
   "execution_count": null,
   "metadata": {
    "colab": {
     "base_uri": "https://localhost:8080/"
    },
    "id": "vpchtUibCmEh",
    "outputId": "3af4d648-80fa-44e1-bb2f-97f345ebdda6"
   },
   "outputs": [
    {
     "name": "stdout",
     "output_type": "stream",
     "text": [
      "     upos  count\n",
      "0    NOUN  69822\n",
      "1    VERB  19486\n",
      "2   PROPN  10999\n",
      "3     ADJ   8270\n",
      "4       X   3604\n",
      "5     ADV   3320\n",
      "6     ADP   3277\n",
      "7     DET   2205\n",
      "8     NUM   1046\n",
      "9   SCONJ    570\n",
      "10   PART    521\n",
      "11   PRON    354\n",
      "12    AUX    260\n",
      "13  CCONJ    172\n",
      "14  PUNCT      1\n"
     ]
    }
   ],
   "source": [
    "\n",
    "# === 5) Ringkasan POS global ===\n",
    "pos_counts = pos_df[\"upos\"].value_counts().reset_index()\n",
    "pos_counts.columns = [\"upos\", \"count\"]\n",
    "print(pos_counts)"
   ]
  },
  {
   "cell_type": "markdown",
   "metadata": {
    "id": "687fecf6"
   },
   "source": [
    "### Visualisasi Distribusi POS\n",
    "\n",
    "Langkah ini membuat visualisasi berupa bar chart horizontal untuk menampilkan distribusi global POS tag berdasarkan hitungan yang diperoleh pada langkah sebelumnya."
   ]
  },
  {
   "cell_type": "code",
   "execution_count": null,
   "metadata": {
    "colab": {
     "base_uri": "https://localhost:8080/"
    },
    "id": "ZLSTnBlcCnG7",
    "outputId": "f0bf0051-c356-4efd-e874-c00afefa826f"
   },
   "outputs": [
    {
     "data": {
      "image/png": "[encoded data removed]",
      "text/plain": [
       "<Figure size 1000x500 with 1 Axes>"
      ]
     },
     "metadata": {},
     "output_type": "display_data"
    }
   ],
   "source": [
    "# === 6) Visualisasi distribusi POS ===\n",
    "plt.figure(figsize=(10,5))\n",
    "plt.barh(pos_counts[\"upos\"][::-1], pos_counts[\"count\"][::-1])\n",
    "plt.xlabel(\"Count\")\n",
    "plt.ylabel(\"UPOS\")\n",
    "plt.title(\"Distribusi POS (Universal POS Tags) - Global\")\n",
    "plt.tight_layout()\n",
    "plt.show()"
   ]
  },
  {
   "cell_type": "markdown",
   "metadata": {
    "id": "aef016c5"
   },
   "source": [
    "### Rasio POS per Dokumen\n",
    "\n",
    "Bagian ini menghitung rasio kemunculan setiap POS tag dalam setiap dokumen secara terpisah, memberikan insight tentang komposisi POS di tingkat dokumen."
   ]
  },
  {
   "cell_type": "code",
   "execution_count": null,
   "metadata": {
    "colab": {
     "base_uri": "https://localhost:8080/"
    },
    "id": "GuJ9CADT5P8P",
    "outputId": "69ca0f70-a618-4173-c0df-63b60087770a"
   },
   "outputs": [
    {
     "data": {
      "application/vnd.google.colaboratory.intrinsic+json": {
       "summary": "{\n  \"name\": \"ratio\",\n  \"rows\": 469,\n  \"fields\": [\n    {\n      \"column\": \"doc_id\",\n      \"properties\": {\n        \"dtype\": \"number\",\n        \"std\": 135,\n        \"min\": 0,\n        \"max\": 468,\n        \"num_unique_values\": 469,\n        \"samples\": [\n          55,\n          73,\n          33\n        ],\n        \"semantic_type\": \"\",\n        \"description\": \"\"\n      }\n    },\n    {\n      \"column\": \"ADJ\",\n      \"properties\": {\n        \"dtype\": \"number\",\n        \"std\": 0.025258636832263672,\n        \"min\": 0.0,\n        \"max\": 0.16666666666666666,\n        \"num_unique_values\": 412,\n        \"samples\": [\n          0.04710144927536232,\n          0.12857142857142856,\n          0.0661764705882353\n        ],\n        \"semantic_type\": \"\",\n        \"description\": \"\"\n      }\n    },\n    {\n      \"column\": \"ADP\",\n      \"properties\": {\n        \"dtype\": \"number\",\n        \"std\": 0.015289275758129552,\n        \"min\": 0.0,\n        \"max\": 0.08482142857142858,\n        \"num_unique_values\": 379,\n        \"samples\": [\n          0.027777777777777776,\n          0.02120141342756184,\n          0.04054054054054054\n        ],\n        \"semantic_type\": \"\",\n        \"description\": \"\"\n      }\n    },\n    {\n      \"column\": \"ADV\",\n      \"properties\": {\n        \"dtype\": \"number\",\n        \"std\": 0.016014593476686517,\n        \"min\": 0.0,\n        \"max\": 0.0967741935483871,\n        \"num_unique_values\": 381,\n        \"samples\": [\n          0.015113350125944584,\n          0.042105263157894736,\n          0.033210332103321034\n        ],\n        \"semantic_type\": \"\",\n        \"description\": \"\"\n      }\n    },\n    {\n      \"column\": \"AUX\",\n      \"properties\": {\n        \"dtype\": \"number\",\n        \"std\": 0.0032749798568812534,\n        \"min\": 0.0,\n        \"max\": 0.0196078431372549,\n        \"num_unique_values\": 156,\n        \"samples\": [\n          0.007874015748031496,\n          0.008849557522123894,\n          0.0026109660574412533\n        ],\n        \"semantic_type\": \"\",\n        \"description\": \"\"\n      }\n    },\n    {\n      \"column\": \"CCONJ\",\n      \"properties\": {\n        \"dtype\": \"number\",\n        \"std\": 0.002741159665088835,\n        \"min\": 0.0,\n        \"max\": 0.01509433962264151,\n        \"num_unique_values\": 99,\n        \"samples\": [\n          0.002512562814070352,\n          0.0033333333333333335,\n          0.0008291873963515755\n        ],\n        \"semantic_type\": \"\",\n        \"description\": \"\"\n      }\n    },\n    {\n      \"column\": \"DET\",\n      \"properties\": {\n        \"dtype\": \"number\",\n        \"std\": 0.012271311672021279,\n        \"min\": 0.0,\n        \"max\": 0.06626506024096386,\n        \"num_unique_values\": 363,\n        \"samples\": [\n          0.004694835680751174,\n          0.006369426751592357,\n          0.00558659217877095\n        ],\n        \"semantic_type\": \"\",\n        \"description\": \"\"\n      }\n    },\n    {\n      \"column\": \"NOUN\",\n      \"properties\": {\n        \"dtype\": \"number\",\n        \"std\": 0.08174141890113243,\n        \"min\": 0.0,\n        \"max\": 0.75,\n        \"num_unique_values\": 425,\n        \"samples\": [\n          0.5164835164835165,\n          0.5537974683544303,\n          0.6524064171122995\n        ],\n        \"semantic_type\": \"\",\n        \"description\": \"\"\n      }\n    },\n    {\n      \"column\": \"NUM\",\n      \"properties\": {\n        \"dtype\": \"number\",\n        \"std\": 0.009916296172899733,\n        \"min\": 0.0,\n        \"max\": 0.06422018348623854,\n        \"num_unique_values\": 284,\n        \"samples\": [\n          0.007547169811320755,\n          0.00967741935483871,\n          0.044444444444444446\n        ],\n        \"semantic_type\": \"\",\n        \"description\": \"\"\n      }\n    },\n    {\n      \"column\": \"PART\",\n      \"properties\": {\n        \"dtype\": \"number\",\n        \"std\": 0.006338069458121365,\n        \"min\": 0.0,\n        \"max\": 0.037037037037037035,\n        \"num_unique_values\": 207,\n        \"samples\": [\n          0.02457002457002457,\n          0.010416666666666666,\n          0.014084507042253521\n        ],\n        \"semantic_type\": \"\",\n        \"description\": \"\"\n      }\n    },\n    {\n      \"column\": \"PRON\",\n      \"properties\": {\n        \"dtype\": \"number\",\n        \"std\": 0.005191246706538762,\n        \"min\": 0.0,\n        \"max\": 0.04186046511627907,\n        \"num_unique_values\": 174,\n        \"samples\": [\n          0.00303951367781155,\n          0.0019723865877712033,\n          0.0030303030303030303\n        ],\n        \"semantic_type\": \"\",\n        \"description\": \"\"\n      }\n    },\n    {\n      \"column\": \"PROPN\",\n      \"properties\": {\n        \"dtype\": \"number\",\n        \"std\": 0.03962678799990389,\n        \"min\": 0.0,\n        \"max\": 0.3333333333333333,\n        \"num_unique_values\": 433,\n        \"samples\": [\n          0.02666666666666667,\n          0.0851063829787234,\n          0.11038961038961038\n        ],\n        \"semantic_type\": \"\",\n        \"description\": \"\"\n      }\n    },\n    {\n      \"column\": \"PUNCT\",\n      \"properties\": {\n        \"dtype\": \"number\",\n        \"std\": 0.00010639564436396518,\n        \"min\": 0.0,\n        \"max\": 0.002304147465437788,\n        \"num_unique_values\": 2,\n        \"samples\": [\n          0.002304147465437788,\n          0.0\n        ],\n        \"semantic_type\": \"\",\n        \"description\": \"\"\n      }\n    },\n    {\n      \"column\": \"SCONJ\",\n      \"properties\": {\n        \"dtype\": \"number\",\n        \"std\": 0.005768323427209757,\n        \"min\": 0.0,\n        \"max\": 0.039473684210526314,\n        \"num_unique_values\": 229,\n        \"samples\": [\n          0.019083969465648856,\n          0.006134969325153374\n        ],\n        \"semantic_type\": \"\",\n        \"description\": \"\"\n      }\n    },\n    {\n      \"column\": \"VERB\",\n      \"properties\": {\n        \"dtype\": \"number\",\n        \"std\": 0.03792000388810637,\n        \"min\": 0.0,\n        \"max\": 0.24186046511627907,\n        \"num_unique_values\": 427,\n        \"samples\": [\n          0.13432835820895522,\n          0.14240506329113925\n        ],\n        \"semantic_type\": \"\",\n        \"description\": \"\"\n      }\n    },\n    {\n      \"column\": \"X\",\n      \"properties\": {\n        \"dtype\": \"number\",\n        \"std\": 0.10269795110494237,\n        \"min\": 0.0,\n        \"max\": 1.0,\n        \"num_unique_values\": 327,\n        \"samples\": [\n          0.03255813953488372,\n          0.01384083044982699\n        ],\n        \"semantic_type\": \"\",\n        \"description\": \"\"\n      }\n    }\n  ]\n}",
       "type": "dataframe",
       "variable_name": "ratio"
      },
      "text/html": [
       "\n",
       "  <div id=\"df-59bebd18-8abf-4eff-bf47-06c6d93aa880\" class=\"colab-df-container\">\n",
       "    <div>\n",
       "<style scoped>\n",
       "    .dataframe tbody tr th:only-of-type {\n",
       "        vertical-align: middle;\n",
       "    }\n",
       "\n",
       "    .dataframe tbody tr th {\n",
       "        vertical-align: top;\n",
       "    }\n",
       "\n",
       "    .dataframe thead th {\n",
       "        text-align: right;\n",
       "    }\n",
       "</style>\n",
       "<table border=\"1\" class=\"dataframe\">\n",
       "  <thead>\n",
       "    <tr style=\"text-align: right;\">\n",
       "      <th>upos</th>\n",
       "      <th>ADJ</th>\n",
       "      <th>ADP</th>\n",
       "      <th>ADV</th>\n",
       "      <th>AUX</th>\n",
       "      <th>CCONJ</th>\n",
       "      <th>DET</th>\n",
       "      <th>NOUN</th>\n",
       "      <th>NUM</th>\n",
       "      <th>PART</th>\n",
       "      <th>PRON</th>\n",
       "      <th>PROPN</th>\n",
       "      <th>PUNCT</th>\n",
       "      <th>SCONJ</th>\n",
       "      <th>VERB</th>\n",
       "      <th>X</th>\n",
       "    </tr>\n",
       "    <tr>\n",
       "      <th>doc_id</th>\n",
       "      <th></th>\n",
       "      <th></th>\n",
       "      <th></th>\n",
       "      <th></th>\n",
       "      <th></th>\n",
       "      <th></th>\n",
       "      <th></th>\n",
       "      <th></th>\n",
       "      <th></th>\n",
       "      <th></th>\n",
       "      <th></th>\n",
       "      <th></th>\n",
       "      <th></th>\n",
       "      <th></th>\n",
       "      <th></th>\n",
       "    </tr>\n",
       "  </thead>\n",
       "  <tbody>\n",
       "    <tr>\n",
       "      <th>0</th>\n",
       "      <td>0.053957</td>\n",
       "      <td>0.021583</td>\n",
       "      <td>0.007194</td>\n",
       "      <td>0.000000</td>\n",
       "      <td>0.003597</td>\n",
       "      <td>0.017986</td>\n",
       "      <td>0.597122</td>\n",
       "      <td>0.010791</td>\n",
       "      <td>0.000000</td>\n",
       "      <td>0.000000</td>\n",
       "      <td>0.107914</td>\n",
       "      <td>0.0</td>\n",
       "      <td>0.014388</td>\n",
       "      <td>0.154676</td>\n",
       "      <td>0.010791</td>\n",
       "    </tr>\n",
       "    <tr>\n",
       "      <th>1</th>\n",
       "      <td>0.064220</td>\n",
       "      <td>0.036697</td>\n",
       "      <td>0.000000</td>\n",
       "      <td>0.000000</td>\n",
       "      <td>0.000000</td>\n",
       "      <td>0.000000</td>\n",
       "      <td>0.596330</td>\n",
       "      <td>0.000000</td>\n",
       "      <td>0.000000</td>\n",
       "      <td>0.000000</td>\n",
       "      <td>0.183486</td>\n",
       "      <td>0.0</td>\n",
       "      <td>0.000000</td>\n",
       "      <td>0.110092</td>\n",
       "      <td>0.009174</td>\n",
       "    </tr>\n",
       "    <tr>\n",
       "      <th>2</th>\n",
       "      <td>0.045181</td>\n",
       "      <td>0.006024</td>\n",
       "      <td>0.051205</td>\n",
       "      <td>0.006024</td>\n",
       "      <td>0.000000</td>\n",
       "      <td>0.021084</td>\n",
       "      <td>0.560241</td>\n",
       "      <td>0.012048</td>\n",
       "      <td>0.021084</td>\n",
       "      <td>0.000000</td>\n",
       "      <td>0.060241</td>\n",
       "      <td>0.0</td>\n",
       "      <td>0.018072</td>\n",
       "      <td>0.174699</td>\n",
       "      <td>0.024096</td>\n",
       "    </tr>\n",
       "    <tr>\n",
       "      <th>3</th>\n",
       "      <td>0.058511</td>\n",
       "      <td>0.005319</td>\n",
       "      <td>0.021277</td>\n",
       "      <td>0.000000</td>\n",
       "      <td>0.002660</td>\n",
       "      <td>0.007979</td>\n",
       "      <td>0.603723</td>\n",
       "      <td>0.015957</td>\n",
       "      <td>0.002660</td>\n",
       "      <td>0.000000</td>\n",
       "      <td>0.069149</td>\n",
       "      <td>0.0</td>\n",
       "      <td>0.000000</td>\n",
       "      <td>0.188830</td>\n",
       "      <td>0.023936</td>\n",
       "    </tr>\n",
       "    <tr>\n",
       "      <th>4</th>\n",
       "      <td>0.081967</td>\n",
       "      <td>0.016393</td>\n",
       "      <td>0.052459</td>\n",
       "      <td>0.006557</td>\n",
       "      <td>0.000000</td>\n",
       "      <td>0.013115</td>\n",
       "      <td>0.544262</td>\n",
       "      <td>0.013115</td>\n",
       "      <td>0.016393</td>\n",
       "      <td>0.009836</td>\n",
       "      <td>0.065574</td>\n",
       "      <td>0.0</td>\n",
       "      <td>0.006557</td>\n",
       "      <td>0.157377</td>\n",
       "      <td>0.016393</td>\n",
       "    </tr>\n",
       "  </tbody>\n",
       "</table>\n",
       "</div>\n",
       "    <div class=\"colab-df-buttons\">\n",
       "\n",
       "  <div class=\"colab-df-container\">\n",
       "    <button class=\"colab-df-convert\" onclick=\"convertToInteractive('df-59bebd18-8abf-4eff-bf47-06c6d93aa880')\"\n",
       "            title=\"Convert this dataframe to an interactive table.\"\n",
       "            style=\"display:none;\">\n",
       "\n",
       "  <svg xmlns=\"http://www.w3.org/2000/svg\" height=\"24px\" viewBox=\"0 -960 960 960\">\n",
       "    <path d=\"M120-120v-720h720v720H120Zm60-500h600v-160H180v160Zm220 220h160v-160H400v160Zm0 220h160v-160H400v160ZM180-400h160v-160H180v160Zm440 0h160v-160H620v160ZM180-180h160v-160H180v160Zm440 0h160v-160H620v160Z\"/>\n",
       "  </svg>\n",
       "    </button>\n",
       "\n",
       "  <style>\n",
       "    .colab-df-container {\n",
       "      display:flex;\n",
       "      gap: 12px;\n",
       "    }\n",
       "\n",
       "    .colab-df-convert {\n",
       "      background-color: #E8F0FE;\n",
       "      border: none;\n",
       "      border-radius: 50%;\n",
       "      cursor: pointer;\n",
       "      display: none;\n",
       "      fill: #1967D2;\n",
       "      height: 32px;\n",
       "      padding: 0 0 0 0;\n",
       "      width: 32px;\n",
       "    }\n",
       "\n",
       "    .colab-df-convert:hover {\n",
       "      background-color: #E2EBFA;\n",
       "      box-shadow: 0px 1px 2px rgba(60, 64, 67, 0.3), 0px 1px 3px 1px rgba(60, 64, 67, 0.15);\n",
       "      fill: #174EA6;\n",
       "    }\n",
       "\n",
       "    .colab-df-buttons div {\n",
       "      margin-bottom: 4px;\n",
       "    }\n",
       "\n",
       "    [theme=dark] .colab-df-convert {\n",
       "      background-color: #3B4455;\n",
       "      fill: #D2E3FC;\n",
       "    }\n",
       "\n",
       "    [theme=dark] .colab-df-convert:hover {\n",
       "      background-color: #434B5C;\n",
       "      box-shadow: 0px 1px 3px 1px rgba(0, 0, 0, 0.15);\n",
       "      filter: drop-shadow(0px 1px 2px rgba(0, 0, 0, 0.3));\n",
       "      fill: #FFFFFF;\n",
       "    }\n",
       "  </style>\n",
       "\n",
       "    <script>\n",
       "      const buttonEl =\n",
       "        document.querySelector('#df-59bebd18-8abf-4eff-bf47-06c6d93aa880 button.colab-df-convert');\n",
       "      buttonEl.style.display =\n",
       "        google.colab.kernel.accessAllowed ? 'block' : 'none';\n",
       "\n",
       "      async function convertToInteractive(key) {\n",
       "        const element = document.querySelector('#df-59bebd18-8abf-4eff-bf47-06c6d93aa880');\n",
       "        const dataTable =\n",
       "          await google.colab.kernel.invokeFunction('convertToInteractive',\n",
       "                                                    [key], {});\n",
       "        if (!dataTable) return;\n",
       "\n",
       "        const docLinkHtml = 'Like what you see? Visit the ' +\n",
       "          '<a target=\"_blank\" href=https://colab.research.google.com/notebooks/data_table.ipynb>data table notebook</a>'\n",
       "          + ' to learn more about interactive tables.';\n",
       "        element.innerHTML = '';\n",
       "        dataTable['output_type'] = 'display_data';\n",
       "        await google.colab.output.renderOutput(dataTable, element);\n",
       "        const docLink = document.createElement('div');\n",
       "        docLink.innerHTML = docLinkHtml;\n",
       "        element.appendChild(docLink);\n",
       "      }\n",
       "    </script>\n",
       "  </div>\n",
       "\n",
       "\n",
       "    <div id=\"df-3b323da5-c078-40f0-a22b-a1ef2dbe367d\">\n",
       "      <button class=\"colab-df-quickchart\" onclick=\"quickchart('df-3b323da5-c078-40f0-a22b-a1ef2dbe367d')\"\n",
       "                title=\"Suggest charts\"\n",
       "                style=\"display:none;\">\n",
       "\n",
       "<svg xmlns=\"http://www.w3.org/2000/svg\" height=\"24px\"viewBox=\"0 0 24 24\"\n",
       "     width=\"24px\">\n",
       "    <g>\n",
       "        <path d=\"M19 3H5c-1.1 0-2 .9-2 2v14c0 1.1.9 2 2 2h14c1.1 0 2-.9 2-2V5c0-1.1-.9-2-2-2zM9 17H7v-7h2v7zm4 0h-2V7h2v10zm4 0h-2v-4h2v4z\"/>\n",
       "    </g>\n",
       "</svg>\n",
       "      </button>\n",
       "\n",
       "<style>\n",
       "  .colab-df-quickchart {\n",
       "      --bg-color: #E8F0FE;\n",
       "      --fill-color: #1967D2;\n",
       "      --hover-bg-color: #E2EBFA;\n",
       "      --hover-fill-color: #174EA6;\n",
       "      --disabled-fill-color: #AAA;\n",
       "      --disabled-bg-color: #DDD;\n",
       "  }\n",
       "\n",
       "  [theme=dark] .colab-df-quickchart {\n",
       "      --bg-color: #3B4455;\n",
       "      --fill-color: #D2E3FC;\n",
       "      --hover-bg-color: #434B5C;\n",
       "      --hover-fill-color: #FFFFFF;\n",
       "      --disabled-bg-color: #3B4455;\n",
       "      --disabled-fill-color: #666;\n",
       "  }\n",
       "\n",
       "  .colab-df-quickchart {\n",
       "    background-color: var(--bg-color);\n",
       "    border: none;\n",
       "    border-radius: 50%;\n",
       "    cursor: pointer;\n",
       "    display: none;\n",
       "    fill: var(--fill-color);\n",
       "    height: 32px;\n",
       "    padding: 0;\n",
       "    width: 32px;\n",
       "  }\n",
       "\n",
       "  .colab-df-quickchart:hover {\n",
       "    background-color: var(--hover-bg-color);\n",
       "    box-shadow: 0 1px 2px rgba(60, 64, 67, 0.3), 0 1px 3px 1px rgba(60, 64, 67, 0.15);\n",
       "    fill: var(--button-hover-fill-color);\n",
       "  }\n",
       "\n",
       "  .colab-df-quickchart-complete:disabled,\n",
       "  .colab-df-quickchart-complete:disabled:hover {\n",
       "    background-color: var(--disabled-bg-color);\n",
       "    fill: var(--disabled-fill-color);\n",
       "    box-shadow: none;\n",
       "  }\n",
       "\n",
       "  .colab-df-spinner {\n",
       "    border: 2px solid var(--fill-color);\n",
       "    border-color: transparent;\n",
       "    border-bottom-color: var(--fill-color);\n",
       "    animation:\n",
       "      spin 1s steps(1) infinite;\n",
       "  }\n",
       "\n",
       "  @keyframes spin {\n",
       "    0% {\n",
       "      border-color: transparent;\n",
       "      border-bottom-color: var(--fill-color);\n",
       "      border-left-color: var(--fill-color);\n",
       "    }\n",
       "    20% {\n",
       "      border-color: transparent;\n",
       "      border-left-color: var(--fill-color);\n",
       "      border-top-color: var(--fill-color);\n",
       "    }\n",
       "    30% {\n",
       "      border-color: transparent;\n",
       "      border-left-color: var(--fill-color);\n",
       "      border-top-color: var(--fill-color);\n",
       "      border-right-color: var(--fill-color);\n",
       "    }\n",
       "    40% {\n",
       "      border-color: transparent;\n",
       "      border-right-color: var(--fill-color);\n",
       "      border-top-color: var(--fill-color);\n",
       "    }\n",
       "    60% {\n",
       "      border-color: transparent;\n",
       "      border-right-color: var(--fill-color);\n",
       "    }\n",
       "    80% {\n",
       "      border-color: transparent;\n",
       "      border-right-color: var(--fill-color);\n",
       "      border-bottom-color: var(--fill-color);\n",
       "    }\n",
       "    90% {\n",
       "      border-color: transparent;\n",
       "      border-bottom-color: var(--fill-color);\n",
       "    }\n",
       "  }\n",
       "</style>\n",
       "\n",
       "      <script>\n",
       "        async function quickchart(key) {\n",
       "          const quickchartButtonEl =\n",
       "            document.querySelector('#' + key + ' button');\n",
       "          quickchartButtonEl.disabled = true;  // To prevent multiple clicks.\n",
       "          quickchartButtonEl.classList.add('colab-df-spinner');\n",
       "          try {\n",
       "            const charts = await google.colab.kernel.invokeFunction(\n",
       "                'suggestCharts', [key], {});\n",
       "          } catch (error) {\n",
       "            console.error('Error during call to suggestCharts:', error);\n",
       "          }\n",
       "          quickchartButtonEl.classList.remove('colab-df-spinner');\n",
       "          quickchartButtonEl.classList.add('colab-df-quickchart-complete');\n",
       "        }\n",
       "        (() => {\n",
       "          let quickchartButtonEl =\n",
       "            document.querySelector('#df-3b323da5-c078-40f0-a22b-a1ef2dbe367d button');\n",
       "          quickchartButtonEl.style.display =\n",
       "            google.colab.kernel.accessAllowed ? 'block' : 'none';\n",
       "        })();\n",
       "      </script>\n",
       "    </div>\n",
       "\n",
       "    </div>\n",
       "  </div>\n"
      ],
      "text/plain": [
       "upos         ADJ       ADP       ADV       AUX     CCONJ       DET      NOUN  \\\n",
       "doc_id                                                                         \n",
       "0       0.053957  0.021583  0.007194  0.000000  0.003597  0.017986  0.597122   \n",
       "1       0.064220  0.036697  0.000000  0.000000  0.000000  0.000000  0.596330   \n",
       "2       0.045181  0.006024  0.051205  0.006024  0.000000  0.021084  0.560241   \n",
       "3       0.058511  0.005319  0.021277  0.000000  0.002660  0.007979  0.603723   \n",
       "4       0.081967  0.016393  0.052459  0.006557  0.000000  0.013115  0.544262   \n",
       "\n",
       "upos         NUM      PART      PRON     PROPN  PUNCT     SCONJ      VERB  \\\n",
       "doc_id                                                                      \n",
       "0       0.010791  0.000000  0.000000  0.107914    0.0  0.014388  0.154676   \n",
       "1       0.000000  0.000000  0.000000  0.183486    0.0  0.000000  0.110092   \n",
       "2       0.012048  0.021084  0.000000  0.060241    0.0  0.018072  0.174699   \n",
       "3       0.015957  0.002660  0.000000  0.069149    0.0  0.000000  0.188830   \n",
       "4       0.013115  0.016393  0.009836  0.065574    0.0  0.006557  0.157377   \n",
       "\n",
       "upos           X  \n",
       "doc_id            \n",
       "0       0.010791  \n",
       "1       0.009174  \n",
       "2       0.024096  \n",
       "3       0.023936  \n",
       "4       0.016393  "
      ]
     },
     "execution_count": 23,
     "metadata": {},
     "output_type": "execute_result"
    }
   ],
   "source": [
    "ratio = (pos_df\n",
    "         .groupby([\"doc_id\",\"upos\"]).size()\n",
    "         .unstack(fill_value=0))\n",
    "ratio = ratio.div(ratio.sum(axis=1), axis=0)\n",
    "ratio.head()  # NOUN/VERB/ADJ/ADV per dokumen"
   ]
  },
  {
   "cell_type": "markdown",
   "metadata": {
    "id": "fda315cc"
   },
   "source": [
    "### Kolokasi ADJ–NOUN (jendela ±2 kata)\n",
    "\n",
    "Langkah ini mengidentifikasi dan menghitung kemunculan pasangan kata (kolokasi) antara kata sifat (ADJ) dan kata benda (NOUN atau PROPN) dalam jendela ±2 kata di sekitar kata sifat."
   ]
  },
  {
   "cell_type": "code",
   "execution_count": null,
   "metadata": {
    "colab": {
     "base_uri": "https://localhost:8080/"
    },
    "id": "Nyz0Zw7e2i9P",
    "outputId": "f7c70711-2e24-4e7e-d86d-05679c1acc5e"
   },
   "outputs": [
    {
     "data": {
      "text/plain": [
       "[(('utama', 'direktur'), 263),\n",
       " (('utama', 'garuda'), 234),\n",
       " (('utama', 'indonesia'), 178),\n",
       " (('sama', 'kerja'), 90),\n",
       " (('merah', 'pelat'), 89),\n",
       " (('baru', 'pesawat'), 82),\n",
       " (('internasional', 'bandara'), 81),\n",
       " (('nasional', 'maskapai'), 75),\n",
       " (('merah', 'maskapai'), 67),\n",
       " (('utama', 'pt'), 65),\n",
       " (('operasional', 'penerbangan'), 64),\n",
       " (('nasional', 'penerbangan'), 62),\n",
       " (('depan', 'tahun'), 57),\n",
       " (('internasional', 'rute'), 56),\n",
       " (('domestik', 'penerbangan'), 55),\n",
       " (('besar', 'sebagian'), 52),\n",
       " (('panjang', 'jangka'), 51),\n",
       " (('sebelumnya', 'tahun'), 51),\n",
       " (('nasional', 'indonesia'), 51),\n",
       " (('nasional', 'garuda'), 51)]"
      ]
     },
     "execution_count": 24,
     "metadata": {},
     "output_type": "execute_result"
    }
   ],
   "source": [
    "# --- Kolokasi ADJ–NOUN (jendela ±2 kata) ---\n",
    "from collections import Counter\n",
    "pairs = Counter()\n",
    "g = pos_df.groupby(\"doc_id\")\n",
    "for _, gdoc in g:\n",
    "    toks = gdoc[[\"token\",\"upos\"]].to_numpy()\n",
    "    for i,(tok,tag) in enumerate(toks):\n",
    "        if tag == \"ADJ\":\n",
    "            for j in range(max(0,i-2), min(len(toks), i+3)):\n",
    "                if toks[j][1] in (\"NOUN\",\"PROPN\"):\n",
    "                    pairs[(tok.lower(), toks[j][0].lower())] += 1\n",
    "pairs.most_common(20)"
   ]
  }
 ],
 "metadata": {
  "colab": {
   "provenance": []
  },
  "kernelspec": {
   "display_name": "Python 3",
   "name": "python3"
  },
  "language_info": {
   "name": "python"
  }
 },
 "nbformat": 4,
 "nbformat_minor": 0
}
